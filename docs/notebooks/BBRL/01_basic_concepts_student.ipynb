{
  "cells": [
    {
      "cell_type": "markdown",
      "id": "ecd79b76",
      "metadata": {
        "id": "ecd79b76"
      },
      "source": [
        "# Outlook\n",
        "\n",
        "This notebook is designed to understand how to use BBRL in practice, it is part of the [BBRL documentation](https://github.com/osigaud/bbrl/docs/index.html).\n",
        "We show of to code a simple agent writing in a simple workspace to implement the Fibonacci sequence of numbers.\n",
        "Then some exercises are given to practice on your own."
      ]
    },
    {
      "cell_type": "markdown",
      "id": "f1031a88",
      "metadata": {
        "id": "f1031a88"
      },
      "source": [
        "# Installation and Imports\n",
        "\n",
        "The BBRL library is [here](https://github.com/osigaud/bbrl).\n",
        "\n",
        "Below, we import standard python packages, pytorch packages and gymnasium\n",
        "environments."
      ]
    },
    {
      "cell_type": "code",
      "execution_count": 75,
      "id": "631ffb13",
      "metadata": {
        "tags": [
          "hide-input"
        ],
        "id": "631ffb13"
      },
      "outputs": [],
      "source": [
        "# Installs the necessary Python and system libraries\n",
        "try:\n",
        "    from easypip import easyimport, easyinstall, is_notebook\n",
        "except ModuleNotFoundError as e:\n",
        "    get_ipython().run_line_magic(\"pip\", \"install easypip\")\n",
        "    from easypip import easyimport, easyinstall, is_notebook\n",
        "\n",
        "easyinstall(\"bbrl>=0.2.2\")"
      ]
    },
    {
      "cell_type": "code",
      "execution_count": 76,
      "id": "74990492",
      "metadata": {
        "tags": [
          "hide-input"
        ],
        "id": "74990492"
      },
      "outputs": [],
      "source": [
        "import os\n",
        "import sys\n",
        "from pathlib import Path\n",
        "import math\n",
        "\n",
        "import time\n",
        "from tqdm.auto import tqdm\n",
        "\n",
        "import copy\n",
        "from abc import abstractmethod, ABC\n",
        "import torch\n",
        "import torch.nn as nn\n",
        "import torch.nn.functional as F"
      ]
    },
    {
      "cell_type": "code",
      "execution_count": 77,
      "id": "3a26d923",
      "metadata": {
        "lines_to_next_cell": 1,
        "tags": [
          "hide-input"
        ],
        "id": "3a26d923"
      },
      "outputs": [],
      "source": [
        "# Imports all the necessary classes and functions from BBRL\n",
        "from bbrl.agents.agent import Agent\n",
        "# The workspace is the main class in BBRL, this is where all data is collected and stored\n",
        "from bbrl.workspace import Workspace\n",
        "\n",
        "# Agents(agent1, agent2, agent3,...) executes the different agents the one after the other\n",
        "# TemporalAgent(agent) executes an agent over multiple timesteps in the workspace,\n",
        "# or until a given condition is reached\n",
        "from bbrl.agents import Agents, TemporalAgent, PrintAgent"
      ]
    },
    {
      "cell_type": "markdown",
      "id": "50afc164",
      "metadata": {
        "id": "50afc164"
      },
      "source": [
        "# Guided example\n",
        "\n",
        "In this example, we will study the Fibonacci sequence of numbers.\n",
        "\n",
        "## Definition of agents\n",
        "\n",
        "\n",
        "In BBRL, agents interact with each other in a **workspace** by *reading* and *writing* information:\n",
        "\n",
        "- **reading**: by using `self.get((key, t))` to get the value of the tensor\n",
        "  identified by `key` (a string)\n",
        "- **writing**: by using `self.set((key, t), y)` to set the value of the tensor\n",
        "  identified by `key` to `y`\n",
        "\n",
        "To initialize the Fibonacci sequence, we need a specific agent to write a 0 at t=0 and a 1 at t=1.\n",
        "Note that the written numbers are encapsulated into an array and into a Tensor:\n",
        "- The array because when we will interact with several environments, we will have an array of variables at the same time step;\n",
        "- The tensor because most often the agent will be pytorch neural networks which read tensors and write tensors."
      ]
    },
    {
      "cell_type": "code",
      "execution_count": 78,
      "id": "c31ff962",
      "metadata": {
        "lines_to_next_cell": 1,
        "id": "c31ff962"
      },
      "outputs": [],
      "source": [
        "class InitAgent(Agent):\n",
        "    \"\"\" The agent to initialize the sequence of numbers.\"\"\"\n",
        "\n",
        "    def __init__(self, *args, **kwargs):\n",
        "        super().__init__(*args, **kwargs)\n",
        "\n",
        "    def forward(self, **kwargs):\n",
        "        self.set((\"number\", 0), torch.Tensor([0]))\n",
        "        self.set((\"number\", 1), torch.Tensor([1]))"
      ]
    },
    {
      "cell_type": "markdown",
      "id": "f71433d3",
      "metadata": {
        "id": "f71433d3"
      },
      "source": [
        "The Fibonacci agent reads the previous and current numbers, and writes the sum at the next time step\n",
        "Note that, as is often the case, the forward function reads a variable using self.get and write another variable (here the same) using self.set."
      ]
    },
    {
      "cell_type": "code",
      "execution_count": 79,
      "id": "f13d5a00",
      "metadata": {
        "lines_to_next_cell": 1,
        "id": "f13d5a00"
      },
      "outputs": [],
      "source": [
        "class FibonacciAgent(Agent):\n",
        "    \"\"\" An agent to compute the Fibonacci sequence of numbers.\"\"\"\n",
        "\n",
        "    def __init__(self, *args, **kwargs):\n",
        "        super().__init__(*args, **kwargs)\n",
        "\n",
        "    def forward(self, t, **kwargs):\n",
        "        number = self.get((\"number\", t))\n",
        "        prev_number = self.get((\"number\", t-1))\n",
        "        next_value =  torch.Tensor([number + prev_number])\n",
        "        self.set((\"number\", t+1), next_value)"
      ]
    },
    {
      "cell_type": "markdown",
      "id": "dab94f9b",
      "metadata": {
        "id": "dab94f9b"
      },
      "source": [
        "## Running agents in a workspace\n",
        "\n",
        "Now, let us run the agents into a workspace"
      ]
    },
    {
      "cell_type": "code",
      "execution_count": 80,
      "id": "20d763f9",
      "metadata": {
        "colab": {
          "base_uri": "https://localhost:8080/"
        },
        "id": "20d763f9",
        "outputId": "f26267d5-59de-446b-d701-c68a1cbc4cb0"
      },
      "outputs": [
        {
          "output_type": "stream",
          "name": "stdout",
          "text": [
            "init: tensor([[0.],\n",
            "        [1.]])\n",
            "6th Fibonacci number :  tensor([8.])\n"
          ]
        }
      ],
      "source": [
        "# First we create a new workspace\n",
        "\n",
        "workspace = Workspace()\n",
        "\n",
        "# Then we encapsulate the InitAgent into a Temporal agent which only contains this agent\n",
        "\n",
        "init_agent = TemporalAgent(Agents(InitAgent()))\n",
        "\n",
        "# We do the same for the Fibonacci agent\n",
        "\n",
        "agent = FibonacciAgent()\n",
        "fib_agent = TemporalAgent(Agents(agent))\n",
        "\n",
        "# We execute the init_agent into the workspace for just one time step.\n",
        "\n",
        "init_agent(workspace, t=0, n_steps=1)\n",
        "\n",
        "# We check the content of the workspace\n",
        "\n",
        "print(\"init:\", workspace[\"number\"])\n",
        "\n",
        "# We execute the Fibonacci agent into the workspace for 10 time steps.\n",
        "\n",
        "fib_agent(workspace, t=1, n_steps=20)\n",
        "\n",
        "# We get the content of the workspace at a given time step\n",
        "\n",
        "fib6 = workspace.get(\"number\", 6)\n",
        "print(\"6th Fibonacci number : \", fib6)"
      ]
    },
    {
      "cell_type": "markdown",
      "id": "5d74b7b4",
      "metadata": {
        "id": "5d74b7b4"
      },
      "source": [
        "Let us now see the content of the workspace. We more systematically print all variables and their value"
      ]
    },
    {
      "cell_type": "code",
      "execution_count": 81,
      "id": "6b5c32cf",
      "metadata": {
        "lines_to_next_cell": 1,
        "colab": {
          "base_uri": "https://localhost:8080/"
        },
        "id": "6b5c32cf",
        "outputId": "7ca67208-92f5-4304-b875-5e7f0eb82921"
      },
      "outputs": [
        {
          "output_type": "stream",
          "name": "stdout",
          "text": [
            "number tensor([[0.0000e+00],\n",
            "        [1.0000e+00],\n",
            "        [1.0000e+00],\n",
            "        [2.0000e+00],\n",
            "        [3.0000e+00],\n",
            "        [5.0000e+00],\n",
            "        [8.0000e+00],\n",
            "        [1.3000e+01],\n",
            "        [2.1000e+01],\n",
            "        [3.4000e+01],\n",
            "        [5.5000e+01],\n",
            "        [8.9000e+01],\n",
            "        [1.4400e+02],\n",
            "        [2.3300e+02],\n",
            "        [3.7700e+02],\n",
            "        [6.1000e+02],\n",
            "        [9.8700e+02],\n",
            "        [1.5970e+03],\n",
            "        [2.5840e+03],\n",
            "        [4.1810e+03],\n",
            "        [6.7650e+03],\n",
            "        [1.0946e+04]])\n"
          ]
        }
      ],
      "source": [
        "for key in workspace.variables.keys():\n",
        "    print(key, workspace[key])"
      ]
    },
    {
      "cell_type": "markdown",
      "id": "ae40cb90",
      "metadata": {
        "id": "ae40cb90"
      },
      "source": [
        "## Composing agents, termination condition\n",
        "\n",
        "Now, let's imagine we want to stop the sequence when the number is greater that 200.\n",
        "For that, we add a TerminationChecker agent that writes a variable \"stop\"\n",
        "which is False in the number is lower than a threshold and True otherwise.\n",
        "\n",
        "Important note: if we want to use the `time_size()` method of a workspace,\n",
        "it is important that the time span of all variables is the same.\n",
        "Hence the Termination checker has to work over t+1 rather than over t, which is somewhat clumsy."
      ]
    },
    {
      "cell_type": "code",
      "execution_count": 82,
      "id": "3c9e09c0",
      "metadata": {
        "id": "3c9e09c0"
      },
      "outputs": [],
      "source": [
        "class TerminationChecker(Agent):\n",
        "    \"\"\" An agent to check if the current Fibonacci number is above a threshold.\"\"\"\n",
        "\n",
        "    def __init__(self, threshold, *args, **kwargs):\n",
        "        super().__init__(*args, **kwargs)\n",
        "        self.threshold = threshold\n",
        "\n",
        "    def forward(self, t, **kwargs):\n",
        "        number = self.get((\"number\", t+1))\n",
        "        if t == 0:\n",
        "            self.set((\"stop\", 0), torch.Tensor([False]))\n",
        "        else:\n",
        "            if number >= self.threshold:\n",
        "                self.set((\"stop\", t+1), torch.Tensor([True]))\n",
        "            else:\n",
        "                self.set((\"stop\", t+1), torch.Tensor([False]))"
      ]
    },
    {
      "cell_type": "markdown",
      "id": "524597b7",
      "metadata": {
        "id": "524597b7"
      },
      "source": [
        "## Running the agents in a workspace\n",
        "\n",
        "Now we compose the agents and run them into a workspace"
      ]
    },
    {
      "cell_type": "code",
      "execution_count": 83,
      "id": "08305648",
      "metadata": {
        "lines_to_next_cell": 1,
        "colab": {
          "base_uri": "https://localhost:8080/"
        },
        "id": "08305648",
        "outputId": "0dbee4dc-d84c-4417-fb47-24dc15897929"
      },
      "outputs": [
        {
          "output_type": "stream",
          "name": "stdout",
          "text": [
            "init: tensor([[0.],\n",
            "        [1.]])\n",
            "number  =  tensor([1.])\n",
            "stop  =  tensor([0.])\n",
            "number  =  tensor([1.])\n",
            "stop  =  tensor([0.])\n",
            "number  =  tensor([2.])\n",
            "stop  =  tensor([0.])\n",
            "number  =  tensor([3.])\n",
            "stop  =  tensor([0.])\n",
            "number  =  tensor([5.])\n",
            "stop  =  tensor([0.])\n",
            "number  =  tensor([8.])\n",
            "stop  =  tensor([0.])\n",
            "number  =  tensor([13.])\n",
            "stop  =  tensor([0.])\n",
            "number  =  tensor([21.])\n",
            "stop  =  tensor([0.])\n",
            "number  =  tensor([34.])\n",
            "stop  =  tensor([0.])\n",
            "number  =  tensor([55.])\n",
            "stop  =  tensor([0.])\n",
            "number  =  tensor([89.])\n",
            "stop  =  tensor([0.])\n",
            "number  =  tensor([144.])\n",
            "stop  =  tensor([0.])\n",
            "number  =  tensor([233.])\n",
            "stop  =  tensor([1.])\n",
            "number of steps: 15\n"
          ]
        }
      ],
      "source": [
        "# First we create a new workspace\n",
        "\n",
        "workspace = Workspace()\n",
        "\n",
        "# Then we encapsulate the InitAgent into a Temporal agent which only contains this agent\n",
        "\n",
        "init_agent = TemporalAgent(Agents(InitAgent()))\n",
        "\n",
        "# We do the same for the Fibonacci agent, but this time we compose it with the TerminationChecker and a PrintAgent,\n",
        "# which is a utility to debug all steps into a terminal.\n",
        "\n",
        "fib_agent = TemporalAgent(Agents(FibonacciAgent(), TerminationChecker(200), PrintAgent()))\n",
        "\n",
        "# We execute the init_agent into the workspace for just one time step.\n",
        "\n",
        "init_agent(workspace, t=0, n_steps=1)\n",
        "\n",
        "# We check the content of the workspace\n",
        "\n",
        "print(\"init:\", workspace[\"number\"])\n",
        "\n",
        "# We execute the composed agent into the workspace until the stop condition gets True.\n",
        "\n",
        "fib_agent(workspace, t=1, stop_variable=\"stop\")\n",
        "\n",
        "# We get the number of steps it took to reach the threshold\n",
        "\n",
        "print(\"number of steps:\", workspace.time_size())"
      ]
    },
    {
      "cell_type": "markdown",
      "id": "021bc362",
      "metadata": {
        "id": "021bc362"
      },
      "source": [
        "# Exercise 1\n",
        "\n",
        "## Question 1\n",
        "\n",
        "Similarly to the guided example above, use an agent and a workspace to generate the sequence of powers of 2.\n",
        "The sequence should stop once the value is over 10e10.\n",
        "You can call the agent computing the powers PowerAgent. It should use a simple product, not the power operator."
      ]
    },
    {
      "cell_type": "code",
      "execution_count": 84,
      "id": "04e2d7cc",
      "metadata": {
        "id": "04e2d7cc",
        "outputId": "0357cf01-f1e1-43fa-f0b6-fe2f0632a45c",
        "colab": {
          "base_uri": "https://localhost:8080/"
        }
      },
      "outputs": [
        {
          "output_type": "stream",
          "name": "stdout",
          "text": [
            "init: tensor([[1.]])\n",
            "number  =  tensor([1.])\n",
            "stop  =  tensor([0.])\n",
            "number  =  tensor([2.])\n",
            "stop  =  tensor([0.])\n",
            "number  =  tensor([4.])\n",
            "stop  =  tensor([0.])\n",
            "number  =  tensor([8.])\n",
            "stop  =  tensor([0.])\n",
            "number  =  tensor([16.])\n",
            "stop  =  tensor([0.])\n",
            "number  =  tensor([32.])\n",
            "stop  =  tensor([0.])\n",
            "number  =  tensor([64.])\n",
            "stop  =  tensor([1.])\n",
            "number of steps: 8\n"
          ]
        }
      ],
      "source": [
        "# To be completed...\n",
        "class InitAgent(Agent):\n",
        "    \"\"\" The agent to initialize the sequence of numbers.\"\"\"\n",
        "\n",
        "    def __init__(self, *args, **kwargs):\n",
        "        super().__init__(*args, **kwargs)\n",
        "\n",
        "    def forward(self, **kwargs):\n",
        "        self.set((\"number\", 0), torch.Tensor([1]))\n",
        "\n",
        "\n",
        "class PowerAgent(Agent):\n",
        "    \"\"\" An agent to compute the power of 2 sequences\"\"\"\n",
        "\n",
        "    def __init__(self, *args, **kwargs):\n",
        "        super().__init__(*args, **kwargs)\n",
        "\n",
        "    def forward(self, t, **kwargs):\n",
        "        number = self.get((\"number\", t))\n",
        "        next_value =  torch.Tensor([number * 2])\n",
        "        self.set((\"number\", t+1), next_value)\n",
        "\n",
        "workspace = Workspace()\n",
        "init_agent = TemporalAgent(Agents(InitAgent()))\n",
        "pow_agent = TemporalAgent(Agents(PowerAgent(), TerminationChecker(50), PrintAgent()))\n",
        "\n",
        "\n",
        "init_agent(workspace, t=0, n_steps=1)\n",
        "print(\"init:\", workspace[\"number\"])\n",
        "\n",
        "pow_agent(workspace, t=0, stop_variable=\"stop\")\n",
        "\n",
        "print(\"number of steps:\", workspace.time_size())\n",
        "\n",
        "\n",
        "# ## Question 2\n",
        "\n",
        "# To stop at the first power over 10e10, you have probably used your PowerAgent and the TerminationChecker from the previous exercise.\n",
        "# Now, combine both agents into a single PowerAgent. It should write both the powers and the stop variable."
      ]
    },
    {
      "cell_type": "code",
      "execution_count": 85,
      "id": "7e7daed1",
      "metadata": {
        "id": "7e7daed1",
        "colab": {
          "base_uri": "https://localhost:8080/"
        },
        "outputId": "3ca903d0-9d27-4013-e4ac-a3e8ddac253c"
      },
      "outputs": [
        {
          "output_type": "stream",
          "name": "stdout",
          "text": [
            "init: tensor([[1.]])\n",
            "number  =  tensor([1.])\n",
            "stop  =  tensor([0.])\n",
            "number  =  tensor([2.])\n",
            "stop  =  tensor([0.])\n",
            "number  =  tensor([4.])\n",
            "stop  =  tensor([0.])\n",
            "number  =  tensor([8.])\n",
            "stop  =  tensor([0.])\n",
            "number  =  tensor([16.])\n",
            "stop  =  tensor([0.])\n",
            "number  =  tensor([32.])\n",
            "stop  =  tensor([0.])\n",
            "number  =  tensor([64.])\n",
            "stop  =  tensor([0.])\n",
            "number  =  tensor([128.])\n",
            "stop  =  tensor([1.])\n",
            "number of steps: 9\n"
          ]
        }
      ],
      "source": [
        "# To be completed...\n",
        "\n",
        "\n",
        "class PowerAgent(Agent):\n",
        "    \"\"\" An agent to compute the power of 2 sequences\"\"\"\n",
        "\n",
        "    def __init__(self, threshold,*args, **kwargs):\n",
        "        super().__init__(*args, **kwargs)\n",
        "        self.threshold = threshold\n",
        "\n",
        "    def forward(self, t, **kwargs):\n",
        "        number = self.get((\"number\", t))\n",
        "        next_value =  torch.Tensor([number * 2])\n",
        "        self.set((\"number\", t+1), next_value)\n",
        "        if t == 0:\n",
        "            self.set((\"stop\", 0), torch.Tensor([False]))\n",
        "        else:\n",
        "            if next_value >= self.threshold:\n",
        "                self.set((\"stop\", t+1), torch.Tensor([True]))\n",
        "            else:\n",
        "                self.set((\"stop\", t+1), torch.Tensor([False]))\n",
        "\n",
        "\n",
        "workspace = Workspace()\n",
        "init_agent = TemporalAgent(Agents(InitAgent()))\n",
        "pow_agent = TemporalAgent(Agents(PowerAgent(100), PrintAgent()))\n",
        "\n",
        "\n",
        "init_agent(workspace, t=0, n_steps=1)\n",
        "print(\"init:\", workspace[\"number\"])\n",
        "\n",
        "pow_agent(workspace, t=0, stop_variable=\"stop\")\n",
        "\n",
        "print(\"number of steps:\", workspace.time_size())"
      ]
    },
    {
      "cell_type": "markdown",
      "id": "ad936ed7",
      "metadata": {
        "id": "ad936ed7"
      },
      "source": [
        "# Exercise 2\n",
        "\n",
        "The Collatz conjecture asks whether repeating two simple arithmetic operations will eventually transform every positive integer into 1.\n",
        "It concerns sequences of integers in which each term is obtained from the previous term as follows:\n",
        "- If the previous term is even, the next term is one half of the previous term.\n",
        "- If the previous term is odd, the next term is 3 times the previous term plus 1.\n",
        "The conjecture is that these sequences always reach 1, no matter which positive integer is chosen to start the sequence (source wikipedia).\n",
        "\n",
        "The goal of this exercise is to study the number of steps one needs to reach one starting from every numbers from 1 to 1000.\n",
        "\n",
        "## Question 1\n",
        "\n",
        "Write the necessary code to get a CollatzAgent generating in a workspace the sequence of numbers starting from any number until it reaches 1.\n",
        "Hint: the CollatzAgent can generate its own stop variable: it is True if the current number is 1, False otherwise.\n",
        "Hint: you also need an InitAgent to pass the value from which you want to start."
      ]
    },
    {
      "cell_type": "code",
      "execution_count": 86,
      "id": "59249910",
      "metadata": {
        "id": "59249910",
        "colab": {
          "base_uri": "https://localhost:8080/"
        },
        "outputId": "337bfc5f-0b5b-4572-8f41-ab25c77acc55"
      },
      "outputs": [
        {
          "output_type": "stream",
          "name": "stdout",
          "text": [
            "init: tensor([[100.]])\n",
            "number  =  tensor([100.])\n",
            "stop  =  tensor([0.])\n",
            "number  =  tensor([50.])\n",
            "stop  =  tensor([0.])\n",
            "number  =  tensor([25.])\n",
            "stop  =  tensor([0.])\n",
            "number  =  tensor([76.])\n",
            "stop  =  tensor([0.])\n",
            "number  =  tensor([38.])\n",
            "stop  =  tensor([0.])\n",
            "number  =  tensor([19.])\n",
            "stop  =  tensor([0.])\n",
            "number  =  tensor([58.])\n",
            "stop  =  tensor([0.])\n",
            "number  =  tensor([29.])\n",
            "stop  =  tensor([0.])\n",
            "number  =  tensor([88.])\n",
            "stop  =  tensor([0.])\n",
            "number  =  tensor([44.])\n",
            "stop  =  tensor([0.])\n",
            "number  =  tensor([22.])\n",
            "stop  =  tensor([0.])\n",
            "number  =  tensor([11.])\n",
            "stop  =  tensor([0.])\n",
            "number  =  tensor([34.])\n",
            "stop  =  tensor([0.])\n",
            "number  =  tensor([17.])\n",
            "stop  =  tensor([0.])\n",
            "number  =  tensor([52.])\n",
            "stop  =  tensor([0.])\n",
            "number  =  tensor([26.])\n",
            "stop  =  tensor([0.])\n",
            "number  =  tensor([13.])\n",
            "stop  =  tensor([0.])\n",
            "number  =  tensor([40.])\n",
            "stop  =  tensor([0.])\n",
            "number  =  tensor([20.])\n",
            "stop  =  tensor([0.])\n",
            "number  =  tensor([10.])\n",
            "stop  =  tensor([0.])\n",
            "number  =  tensor([5.])\n",
            "stop  =  tensor([0.])\n",
            "number  =  tensor([16.])\n",
            "stop  =  tensor([0.])\n",
            "number  =  tensor([8.])\n",
            "stop  =  tensor([0.])\n",
            "number  =  tensor([4.])\n",
            "stop  =  tensor([0.])\n",
            "number  =  tensor([2.])\n",
            "stop  =  tensor([0.])\n",
            "number  =  tensor([1.])\n",
            "stop  =  tensor([1.])\n",
            "number of steps: 27\n"
          ]
        }
      ],
      "source": [
        "# To be completed...\n",
        "\n",
        "class InitAgent(Agent):\n",
        "    \"\"\" The agent to initialize the sequence of numbers.\"\"\"\n",
        "\n",
        "    def __init__(self, number, *args, **kwargs):\n",
        "        super().__init__(*args, **kwargs)\n",
        "        self.number = number\n",
        "\n",
        "    def forward(self, **kwargs):\n",
        "        self.set((\"number\", 0), torch.Tensor([self.number]))\n",
        "\n",
        "\n",
        "class CollatzAgent(Agent):\n",
        "    \"\"\" An agent to compute the power of 2 sequences\"\"\"\n",
        "\n",
        "    def __init__(self,*args, **kwargs):\n",
        "        super().__init__(*args, **kwargs)\n",
        "\n",
        "    def forward(self, t, **kwargs):\n",
        "        number = self.get((\"number\", t))\n",
        "        if number%2 == 0:\n",
        "            next_value = number/2\n",
        "        else:\n",
        "            next_value = 3*number+1\n",
        "        self.set(('number', t+1), next_value)\n",
        "        if t == 0:\n",
        "            self.set((\"stop\", 0), torch.Tensor([False]))\n",
        "        else:\n",
        "            if next_value == 1:\n",
        "                self.set((\"stop\", t+1), torch.Tensor([True]))\n",
        "            else:\n",
        "                self.set((\"stop\", t+1), torch.Tensor([False]))\n",
        "\n",
        "\n",
        "workspace = Workspace()\n",
        "init_agent = TemporalAgent(Agents(InitAgent(100)))\n",
        "col_agent = TemporalAgent(Agents(CollatzAgent(), PrintAgent()))\n",
        "\n",
        "\n",
        "init_agent(workspace, t=0, n_steps=1)\n",
        "print(\"init:\", workspace[\"number\"])\n",
        "\n",
        "col_agent(workspace, t=0, stop_variable=\"stop\")\n",
        "\n",
        "print(\"number of steps:\", workspace.time_size())"
      ]
    },
    {
      "cell_type": "markdown",
      "id": "b391597b",
      "metadata": {
        "lines_to_next_cell": 2,
        "id": "b391597b"
      },
      "source": [
        "## Question 2\n",
        "\n",
        "Write the necessary code to get another agent generating in another workspace the number of steps needed to reach 1 when starting from the 1000 first numbers.\n",
        "This agent should use the previous agent."
      ]
    },
    {
      "cell_type": "code",
      "execution_count": 89,
      "id": "bcf3b783",
      "metadata": {
        "lines_to_next_cell": 2,
        "id": "bcf3b783",
        "colab": {
          "base_uri": "https://localhost:8080/",
          "height": 1000
        },
        "outputId": "1a39ff84-0951-4021-cfd2-f59a026d46b7"
      },
      "outputs": [
        {
          "output_type": "stream",
          "name": "stdout",
          "text": [
            "init: tensor([[1.]]) tensor([[1.]])\n"
          ]
        },
        {
          "output_type": "error",
          "ename": "AssertionError",
          "evalue": "Unknown variable: number",
          "traceback": [
            "\u001b[0;31m---------------------------------------------------------------------------\u001b[0m",
            "\u001b[0;31mAssertionError\u001b[0m                            Traceback (most recent call last)",
            "\u001b[0;32m<ipython-input-89-cfbea4159a1a>\u001b[0m in \u001b[0;36m<cell line: 0>\u001b[0;34m()\u001b[0m\n\u001b[1;32m     52\u001b[0m \u001b[0mprint\u001b[0m\u001b[0;34m(\u001b[0m\u001b[0;34m\"init:\"\u001b[0m\u001b[0;34m,\u001b[0m \u001b[0mworkspace\u001b[0m\u001b[0;34m[\u001b[0m\u001b[0;34m\"n\"\u001b[0m\u001b[0;34m]\u001b[0m\u001b[0;34m,\u001b[0m \u001b[0mworkspace\u001b[0m\u001b[0;34m[\u001b[0m\u001b[0;34m\"it\"\u001b[0m\u001b[0;34m]\u001b[0m\u001b[0;34m)\u001b[0m\u001b[0;34m\u001b[0m\u001b[0;34m\u001b[0m\u001b[0m\n\u001b[1;32m     53\u001b[0m \u001b[0;34m\u001b[0m\u001b[0m\n\u001b[0;32m---> 54\u001b[0;31m \u001b[0mitcol_agent\u001b[0m\u001b[0;34m(\u001b[0m\u001b[0mworkspace\u001b[0m\u001b[0;34m,\u001b[0m \u001b[0mt\u001b[0m\u001b[0;34m=\u001b[0m\u001b[0;36m0\u001b[0m\u001b[0;34m,\u001b[0m \u001b[0mstop_variable\u001b[0m\u001b[0;34m=\u001b[0m\u001b[0;34m\"stop\"\u001b[0m\u001b[0;34m)\u001b[0m\u001b[0;34m\u001b[0m\u001b[0;34m\u001b[0m\u001b[0m\n\u001b[0m\u001b[1;32m     55\u001b[0m \u001b[0;34m\u001b[0m\u001b[0m\n\u001b[1;32m     56\u001b[0m \u001b[0mprint\u001b[0m\u001b[0;34m(\u001b[0m\u001b[0;34m\"number of steps:\"\u001b[0m\u001b[0;34m,\u001b[0m \u001b[0mworkspace\u001b[0m\u001b[0;34m.\u001b[0m\u001b[0mtime_size\u001b[0m\u001b[0;34m(\u001b[0m\u001b[0;34m)\u001b[0m\u001b[0;34m)\u001b[0m\u001b[0;34m\u001b[0m\u001b[0;34m\u001b[0m\u001b[0m\n",
            "\u001b[0;32m/usr/local/lib/python3.11/dist-packages/bbrl/agents/utils.py\u001b[0m in \u001b[0;36m__call__\u001b[0;34m(self, workspace, t, n_steps, stop_variable, **kwargs)\u001b[0m\n\u001b[1;32m     77\u001b[0m         \u001b[0m_t\u001b[0m \u001b[0;34m=\u001b[0m \u001b[0mt\u001b[0m\u001b[0;34m\u001b[0m\u001b[0;34m\u001b[0m\u001b[0m\n\u001b[1;32m     78\u001b[0m         \u001b[0;32mwhile\u001b[0m \u001b[0;32mTrue\u001b[0m\u001b[0;34m:\u001b[0m\u001b[0;34m\u001b[0m\u001b[0;34m\u001b[0m\u001b[0m\n\u001b[0;32m---> 79\u001b[0;31m             \u001b[0mself\u001b[0m\u001b[0;34m.\u001b[0m\u001b[0magent\u001b[0m\u001b[0;34m(\u001b[0m\u001b[0mworkspace\u001b[0m\u001b[0;34m,\u001b[0m \u001b[0mt\u001b[0m\u001b[0;34m=\u001b[0m\u001b[0m_t\u001b[0m\u001b[0;34m,\u001b[0m \u001b[0;34m**\u001b[0m\u001b[0mkwargs\u001b[0m\u001b[0;34m)\u001b[0m\u001b[0;34m\u001b[0m\u001b[0;34m\u001b[0m\u001b[0m\n\u001b[0m\u001b[1;32m     80\u001b[0m             \u001b[0;32mif\u001b[0m \u001b[0mstop_variable\u001b[0m \u001b[0;32mis\u001b[0m \u001b[0;32mnot\u001b[0m \u001b[0;32mNone\u001b[0m\u001b[0;34m:\u001b[0m\u001b[0;34m\u001b[0m\u001b[0;34m\u001b[0m\u001b[0m\n\u001b[1;32m     81\u001b[0m                 \u001b[0ms\u001b[0m \u001b[0;34m=\u001b[0m \u001b[0mworkspace\u001b[0m\u001b[0;34m.\u001b[0m\u001b[0mget\u001b[0m\u001b[0;34m(\u001b[0m\u001b[0mstop_variable\u001b[0m\u001b[0;34m,\u001b[0m \u001b[0m_t\u001b[0m\u001b[0;34m)\u001b[0m\u001b[0;34m\u001b[0m\u001b[0;34m\u001b[0m\u001b[0m\n",
            "\u001b[0;32m/usr/local/lib/python3.11/dist-packages/bbrl/agents/utils.py\u001b[0m in \u001b[0;36m__call__\u001b[0;34m(self, workspace, **kwargs)\u001b[0m\n\u001b[1;32m     29\u001b[0m     \u001b[0;32mdef\u001b[0m \u001b[0m__call__\u001b[0m\u001b[0;34m(\u001b[0m\u001b[0mself\u001b[0m\u001b[0;34m,\u001b[0m \u001b[0mworkspace\u001b[0m\u001b[0;34m,\u001b[0m \u001b[0;34m**\u001b[0m\u001b[0mkwargs\u001b[0m\u001b[0;34m)\u001b[0m\u001b[0;34m:\u001b[0m\u001b[0;34m\u001b[0m\u001b[0;34m\u001b[0m\u001b[0m\n\u001b[1;32m     30\u001b[0m         \u001b[0;32mfor\u001b[0m \u001b[0ma\u001b[0m \u001b[0;32min\u001b[0m \u001b[0mself\u001b[0m\u001b[0;34m.\u001b[0m\u001b[0magents\u001b[0m\u001b[0;34m:\u001b[0m\u001b[0;34m\u001b[0m\u001b[0;34m\u001b[0m\u001b[0m\n\u001b[0;32m---> 31\u001b[0;31m             \u001b[0ma\u001b[0m\u001b[0;34m(\u001b[0m\u001b[0mworkspace\u001b[0m\u001b[0;34m,\u001b[0m \u001b[0;34m**\u001b[0m\u001b[0mkwargs\u001b[0m\u001b[0;34m)\u001b[0m\u001b[0;34m\u001b[0m\u001b[0;34m\u001b[0m\u001b[0m\n\u001b[0m\u001b[1;32m     32\u001b[0m \u001b[0;34m\u001b[0m\u001b[0m\n\u001b[1;32m     33\u001b[0m     \u001b[0;32mdef\u001b[0m \u001b[0mforward\u001b[0m\u001b[0;34m(\u001b[0m\u001b[0mself\u001b[0m\u001b[0;34m,\u001b[0m \u001b[0;34m**\u001b[0m\u001b[0mkwargs\u001b[0m\u001b[0;34m)\u001b[0m\u001b[0;34m:\u001b[0m\u001b[0;34m\u001b[0m\u001b[0;34m\u001b[0m\u001b[0m\n",
            "\u001b[0;32m/usr/local/lib/python3.11/dist-packages/bbrl/agents/agent.py\u001b[0m in \u001b[0;36m__call__\u001b[0;34m(self, workspace, **kwargs)\u001b[0m\n\u001b[1;32m     82\u001b[0m         \u001b[0;32massert\u001b[0m \u001b[0mworkspace\u001b[0m \u001b[0;32mis\u001b[0m \u001b[0;32mnot\u001b[0m \u001b[0;32mNone\u001b[0m\u001b[0;34m,\u001b[0m \u001b[0;34m\"[Agent.__call__] workspace must not be None\"\u001b[0m\u001b[0;34m\u001b[0m\u001b[0;34m\u001b[0m\u001b[0m\n\u001b[1;32m     83\u001b[0m         \u001b[0mself\u001b[0m\u001b[0;34m.\u001b[0m\u001b[0mworkspace\u001b[0m \u001b[0;34m=\u001b[0m \u001b[0mworkspace\u001b[0m\u001b[0;34m\u001b[0m\u001b[0;34m\u001b[0m\u001b[0m\n\u001b[0;32m---> 84\u001b[0;31m         \u001b[0mself\u001b[0m\u001b[0;34m.\u001b[0m\u001b[0mforward\u001b[0m\u001b[0;34m(\u001b[0m\u001b[0;34m**\u001b[0m\u001b[0mkwargs\u001b[0m\u001b[0;34m)\u001b[0m\u001b[0;34m\u001b[0m\u001b[0;34m\u001b[0m\u001b[0m\n\u001b[0m\u001b[1;32m     85\u001b[0m         \u001b[0mself\u001b[0m\u001b[0;34m.\u001b[0m\u001b[0mworkspace\u001b[0m \u001b[0;34m=\u001b[0m \u001b[0;32mNone\u001b[0m\u001b[0;34m\u001b[0m\u001b[0;34m\u001b[0m\u001b[0m\n\u001b[1;32m     86\u001b[0m \u001b[0;34m\u001b[0m\u001b[0m\n",
            "\u001b[0;32m<ipython-input-89-cfbea4159a1a>\u001b[0m in \u001b[0;36mforward\u001b[0;34m(self, t, **kwargs)\u001b[0m\n\u001b[1;32m     28\u001b[0m \u001b[0;34m\u001b[0m\u001b[0m\n\u001b[1;32m     29\u001b[0m         \u001b[0minit\u001b[0m\u001b[0;34m(\u001b[0m\u001b[0mwk\u001b[0m\u001b[0;34m,\u001b[0m \u001b[0mt\u001b[0m\u001b[0;34m=\u001b[0m\u001b[0;36m0\u001b[0m\u001b[0;34m,\u001b[0m \u001b[0mn_steps\u001b[0m\u001b[0;34m=\u001b[0m\u001b[0;36m1\u001b[0m\u001b[0;34m)\u001b[0m\u001b[0;34m\u001b[0m\u001b[0;34m\u001b[0m\u001b[0m\n\u001b[0;32m---> 30\u001b[0;31m         \u001b[0mcol\u001b[0m\u001b[0;34m(\u001b[0m\u001b[0mwk\u001b[0m\u001b[0;34m,\u001b[0m \u001b[0mt\u001b[0m\u001b[0;34m=\u001b[0m\u001b[0;36m0\u001b[0m\u001b[0;34m,\u001b[0m \u001b[0mstop_variable\u001b[0m\u001b[0;34m=\u001b[0m\u001b[0;34m\"stop\"\u001b[0m\u001b[0;34m)\u001b[0m\u001b[0;34m\u001b[0m\u001b[0;34m\u001b[0m\u001b[0m\n\u001b[0m\u001b[1;32m     31\u001b[0m \u001b[0;34m\u001b[0m\u001b[0m\n\u001b[1;32m     32\u001b[0m         \u001b[0mself\u001b[0m\u001b[0;34m.\u001b[0m\u001b[0mset\u001b[0m\u001b[0;34m(\u001b[0m\u001b[0;34m(\u001b[0m\u001b[0;34m\"n\"\u001b[0m\u001b[0;34m,\u001b[0m\u001b[0mt\u001b[0m\u001b[0;34m+\u001b[0m\u001b[0;36m1\u001b[0m\u001b[0;34m)\u001b[0m\u001b[0;34m,\u001b[0m\u001b[0mn\u001b[0m\u001b[0;34m)\u001b[0m\u001b[0;34m\u001b[0m\u001b[0;34m\u001b[0m\u001b[0m\n",
            "\u001b[0;32m/usr/local/lib/python3.11/dist-packages/bbrl/agents/utils.py\u001b[0m in \u001b[0;36m__call__\u001b[0;34m(self, workspace, t, n_steps, stop_variable, **kwargs)\u001b[0m\n\u001b[1;32m     77\u001b[0m         \u001b[0m_t\u001b[0m \u001b[0;34m=\u001b[0m \u001b[0mt\u001b[0m\u001b[0;34m\u001b[0m\u001b[0;34m\u001b[0m\u001b[0m\n\u001b[1;32m     78\u001b[0m         \u001b[0;32mwhile\u001b[0m \u001b[0;32mTrue\u001b[0m\u001b[0;34m:\u001b[0m\u001b[0;34m\u001b[0m\u001b[0;34m\u001b[0m\u001b[0m\n\u001b[0;32m---> 79\u001b[0;31m             \u001b[0mself\u001b[0m\u001b[0;34m.\u001b[0m\u001b[0magent\u001b[0m\u001b[0;34m(\u001b[0m\u001b[0mworkspace\u001b[0m\u001b[0;34m,\u001b[0m \u001b[0mt\u001b[0m\u001b[0;34m=\u001b[0m\u001b[0m_t\u001b[0m\u001b[0;34m,\u001b[0m \u001b[0;34m**\u001b[0m\u001b[0mkwargs\u001b[0m\u001b[0;34m)\u001b[0m\u001b[0;34m\u001b[0m\u001b[0;34m\u001b[0m\u001b[0m\n\u001b[0m\u001b[1;32m     80\u001b[0m             \u001b[0;32mif\u001b[0m \u001b[0mstop_variable\u001b[0m \u001b[0;32mis\u001b[0m \u001b[0;32mnot\u001b[0m \u001b[0;32mNone\u001b[0m\u001b[0;34m:\u001b[0m\u001b[0;34m\u001b[0m\u001b[0;34m\u001b[0m\u001b[0m\n\u001b[1;32m     81\u001b[0m                 \u001b[0ms\u001b[0m \u001b[0;34m=\u001b[0m \u001b[0mworkspace\u001b[0m\u001b[0;34m.\u001b[0m\u001b[0mget\u001b[0m\u001b[0;34m(\u001b[0m\u001b[0mstop_variable\u001b[0m\u001b[0;34m,\u001b[0m \u001b[0m_t\u001b[0m\u001b[0;34m)\u001b[0m\u001b[0;34m\u001b[0m\u001b[0;34m\u001b[0m\u001b[0m\n",
            "\u001b[0;32m/usr/local/lib/python3.11/dist-packages/bbrl/agents/utils.py\u001b[0m in \u001b[0;36m__call__\u001b[0;34m(self, workspace, **kwargs)\u001b[0m\n\u001b[1;32m     29\u001b[0m     \u001b[0;32mdef\u001b[0m \u001b[0m__call__\u001b[0m\u001b[0;34m(\u001b[0m\u001b[0mself\u001b[0m\u001b[0;34m,\u001b[0m \u001b[0mworkspace\u001b[0m\u001b[0;34m,\u001b[0m \u001b[0;34m**\u001b[0m\u001b[0mkwargs\u001b[0m\u001b[0;34m)\u001b[0m\u001b[0;34m:\u001b[0m\u001b[0;34m\u001b[0m\u001b[0;34m\u001b[0m\u001b[0m\n\u001b[1;32m     30\u001b[0m         \u001b[0;32mfor\u001b[0m \u001b[0ma\u001b[0m \u001b[0;32min\u001b[0m \u001b[0mself\u001b[0m\u001b[0;34m.\u001b[0m\u001b[0magents\u001b[0m\u001b[0;34m:\u001b[0m\u001b[0;34m\u001b[0m\u001b[0;34m\u001b[0m\u001b[0m\n\u001b[0;32m---> 31\u001b[0;31m             \u001b[0ma\u001b[0m\u001b[0;34m(\u001b[0m\u001b[0mworkspace\u001b[0m\u001b[0;34m,\u001b[0m \u001b[0;34m**\u001b[0m\u001b[0mkwargs\u001b[0m\u001b[0;34m)\u001b[0m\u001b[0;34m\u001b[0m\u001b[0;34m\u001b[0m\u001b[0m\n\u001b[0m\u001b[1;32m     32\u001b[0m \u001b[0;34m\u001b[0m\u001b[0m\n\u001b[1;32m     33\u001b[0m     \u001b[0;32mdef\u001b[0m \u001b[0mforward\u001b[0m\u001b[0;34m(\u001b[0m\u001b[0mself\u001b[0m\u001b[0;34m,\u001b[0m \u001b[0;34m**\u001b[0m\u001b[0mkwargs\u001b[0m\u001b[0;34m)\u001b[0m\u001b[0;34m:\u001b[0m\u001b[0;34m\u001b[0m\u001b[0;34m\u001b[0m\u001b[0m\n",
            "\u001b[0;32m/usr/local/lib/python3.11/dist-packages/bbrl/agents/agent.py\u001b[0m in \u001b[0;36m__call__\u001b[0;34m(self, workspace, **kwargs)\u001b[0m\n\u001b[1;32m     82\u001b[0m         \u001b[0;32massert\u001b[0m \u001b[0mworkspace\u001b[0m \u001b[0;32mis\u001b[0m \u001b[0;32mnot\u001b[0m \u001b[0;32mNone\u001b[0m\u001b[0;34m,\u001b[0m \u001b[0;34m\"[Agent.__call__] workspace must not be None\"\u001b[0m\u001b[0;34m\u001b[0m\u001b[0;34m\u001b[0m\u001b[0m\n\u001b[1;32m     83\u001b[0m         \u001b[0mself\u001b[0m\u001b[0;34m.\u001b[0m\u001b[0mworkspace\u001b[0m \u001b[0;34m=\u001b[0m \u001b[0mworkspace\u001b[0m\u001b[0;34m\u001b[0m\u001b[0;34m\u001b[0m\u001b[0m\n\u001b[0;32m---> 84\u001b[0;31m         \u001b[0mself\u001b[0m\u001b[0;34m.\u001b[0m\u001b[0mforward\u001b[0m\u001b[0;34m(\u001b[0m\u001b[0;34m**\u001b[0m\u001b[0mkwargs\u001b[0m\u001b[0;34m)\u001b[0m\u001b[0;34m\u001b[0m\u001b[0;34m\u001b[0m\u001b[0m\n\u001b[0m\u001b[1;32m     85\u001b[0m         \u001b[0mself\u001b[0m\u001b[0;34m.\u001b[0m\u001b[0mworkspace\u001b[0m \u001b[0;34m=\u001b[0m \u001b[0;32mNone\u001b[0m\u001b[0;34m\u001b[0m\u001b[0;34m\u001b[0m\u001b[0m\n\u001b[1;32m     86\u001b[0m \u001b[0;34m\u001b[0m\u001b[0m\n",
            "\u001b[0;32m<ipython-input-86-0a7f87b0fc36>\u001b[0m in \u001b[0;36mforward\u001b[0;34m(self, t, **kwargs)\u001b[0m\n\u001b[1;32m     19\u001b[0m \u001b[0;34m\u001b[0m\u001b[0m\n\u001b[1;32m     20\u001b[0m     \u001b[0;32mdef\u001b[0m \u001b[0mforward\u001b[0m\u001b[0;34m(\u001b[0m\u001b[0mself\u001b[0m\u001b[0;34m,\u001b[0m \u001b[0mt\u001b[0m\u001b[0;34m,\u001b[0m \u001b[0;34m**\u001b[0m\u001b[0mkwargs\u001b[0m\u001b[0;34m)\u001b[0m\u001b[0;34m:\u001b[0m\u001b[0;34m\u001b[0m\u001b[0;34m\u001b[0m\u001b[0m\n\u001b[0;32m---> 21\u001b[0;31m         \u001b[0mnumber\u001b[0m \u001b[0;34m=\u001b[0m \u001b[0mself\u001b[0m\u001b[0;34m.\u001b[0m\u001b[0mget\u001b[0m\u001b[0;34m(\u001b[0m\u001b[0;34m(\u001b[0m\u001b[0;34m\"number\"\u001b[0m\u001b[0;34m,\u001b[0m \u001b[0mt\u001b[0m\u001b[0;34m)\u001b[0m\u001b[0;34m)\u001b[0m\u001b[0;34m\u001b[0m\u001b[0;34m\u001b[0m\u001b[0m\n\u001b[0m\u001b[1;32m     22\u001b[0m         \u001b[0;32mif\u001b[0m \u001b[0mnumber\u001b[0m\u001b[0;34m%\u001b[0m\u001b[0;36m2\u001b[0m \u001b[0;34m==\u001b[0m \u001b[0;36m0\u001b[0m\u001b[0;34m:\u001b[0m\u001b[0;34m\u001b[0m\u001b[0;34m\u001b[0m\u001b[0m\n\u001b[1;32m     23\u001b[0m             \u001b[0mnext_value\u001b[0m \u001b[0;34m=\u001b[0m \u001b[0mnumber\u001b[0m\u001b[0;34m/\u001b[0m\u001b[0;36m2\u001b[0m\u001b[0;34m\u001b[0m\u001b[0;34m\u001b[0m\u001b[0m\n",
            "\u001b[0;32m/usr/local/lib/python3.11/dist-packages/bbrl/agents/agent.py\u001b[0m in \u001b[0;36mget\u001b[0;34m(self, index)\u001b[0m\n\u001b[1;32m    130\u001b[0m             \u001b[0;32mreturn\u001b[0m \u001b[0mself\u001b[0m\u001b[0;34m.\u001b[0m\u001b[0mworkspace\u001b[0m\u001b[0;34m.\u001b[0m\u001b[0mget_full\u001b[0m\u001b[0;34m(\u001b[0m\u001b[0mindex\u001b[0m\u001b[0;34m)\u001b[0m\u001b[0;34m\u001b[0m\u001b[0;34m\u001b[0m\u001b[0m\n\u001b[1;32m    131\u001b[0m         \u001b[0;32melse\u001b[0m\u001b[0;34m:\u001b[0m\u001b[0;34m\u001b[0m\u001b[0;34m\u001b[0m\u001b[0m\n\u001b[0;32m--> 132\u001b[0;31m             \u001b[0;32mreturn\u001b[0m \u001b[0mself\u001b[0m\u001b[0;34m.\u001b[0m\u001b[0mworkspace\u001b[0m\u001b[0;34m.\u001b[0m\u001b[0mget\u001b[0m\u001b[0;34m(\u001b[0m\u001b[0mindex\u001b[0m\u001b[0;34m[\u001b[0m\u001b[0;36m0\u001b[0m\u001b[0;34m]\u001b[0m\u001b[0;34m,\u001b[0m \u001b[0mindex\u001b[0m\u001b[0;34m[\u001b[0m\u001b[0;36m1\u001b[0m\u001b[0;34m]\u001b[0m\u001b[0;34m)\u001b[0m\u001b[0;34m\u001b[0m\u001b[0;34m\u001b[0m\u001b[0m\n\u001b[0m\u001b[1;32m    133\u001b[0m \u001b[0;34m\u001b[0m\u001b[0m\n\u001b[1;32m    134\u001b[0m     \u001b[0;32mdef\u001b[0m \u001b[0mget_time_truncated\u001b[0m\u001b[0;34m(\u001b[0m\u001b[0mself\u001b[0m\u001b[0;34m,\u001b[0m \u001b[0mvar_name\u001b[0m\u001b[0;34m,\u001b[0m \u001b[0mfrom_time\u001b[0m\u001b[0;34m,\u001b[0m \u001b[0mto_time\u001b[0m\u001b[0;34m)\u001b[0m\u001b[0;34m:\u001b[0m\u001b[0;34m\u001b[0m\u001b[0;34m\u001b[0m\u001b[0m\n",
            "\u001b[0;32m/usr/local/lib/python3.11/dist-packages/bbrl/workspace.py\u001b[0m in \u001b[0;36mget\u001b[0;34m(self, var_name, t, batch_dims)\u001b[0m\n\u001b[1;32m    366\u001b[0m     ) -> torch.Tensor:\n\u001b[1;32m    367\u001b[0m         \u001b[0;34m\"\"\"Get the variable var_name at time t\"\"\"\u001b[0m\u001b[0;34m\u001b[0m\u001b[0;34m\u001b[0m\u001b[0m\n\u001b[0;32m--> 368\u001b[0;31m         \u001b[0;32massert\u001b[0m \u001b[0mvar_name\u001b[0m \u001b[0;32min\u001b[0m \u001b[0mself\u001b[0m\u001b[0;34m.\u001b[0m\u001b[0mvariables\u001b[0m\u001b[0;34m,\u001b[0m \u001b[0;34mf\"Unknown variable: {var_name}\"\u001b[0m\u001b[0;34m\u001b[0m\u001b[0;34m\u001b[0m\u001b[0m\n\u001b[0m\u001b[1;32m    369\u001b[0m         \u001b[0;32mreturn\u001b[0m \u001b[0mself\u001b[0m\u001b[0;34m.\u001b[0m\u001b[0mvariables\u001b[0m\u001b[0;34m[\u001b[0m\u001b[0mvar_name\u001b[0m\u001b[0;34m]\u001b[0m\u001b[0;34m.\u001b[0m\u001b[0mget\u001b[0m\u001b[0;34m(\u001b[0m\u001b[0mt\u001b[0m\u001b[0;34m,\u001b[0m \u001b[0mbatch_dims\u001b[0m\u001b[0;34m=\u001b[0m\u001b[0mbatch_dims\u001b[0m\u001b[0;34m)\u001b[0m\u001b[0;34m\u001b[0m\u001b[0;34m\u001b[0m\u001b[0m\n\u001b[1;32m    370\u001b[0m \u001b[0;34m\u001b[0m\u001b[0m\n",
            "\u001b[0;31mAssertionError\u001b[0m: Unknown variable: number"
          ]
        }
      ],
      "source": [
        "# To be completed...\n",
        "# To be completed...\n",
        "\n",
        "class InitAgent(Agent):\n",
        "    \"\"\" The agent to initialize the sequence of numbers.\"\"\"\n",
        "\n",
        "    def __init__(self, *args, **kwargs):\n",
        "        super().__init__(*args, **kwargs)\n",
        "\n",
        "    def forward(self, **kwargs):\n",
        "        self.set((\"n\", 0), torch.Tensor([1]))\n",
        "        self.set((\"it\", 0), torch.Tensor([1]))\n",
        "\n",
        "\n",
        "class ItColAgent(Agent):\n",
        "    \"\"\" An agent to compute the power of 2 sequences\"\"\"\n",
        "\n",
        "    def __init__(self, threshold,*args, **kwargs):\n",
        "        super().__init__(*args, **kwargs)\n",
        "        self.threshold = threshold\n",
        "\n",
        "    def forward(self, t, **kwargs):\n",
        "        n = self.get((\"n\",t))+1\n",
        "\n",
        "        wk = Workspace()\n",
        "        init = TemporalAgent(Agents(InitAgent(int(n.item()))))\n",
        "        col = TemporalAgent(Agents(CollatzAgent(),PrintAgent()))\n",
        "\n",
        "        init(wk, t=0, n_steps=1)\n",
        "        col(wk, t=0, stop_variable=\"stop\")\n",
        "\n",
        "        self.set((\"n\",t+1),n)\n",
        "        self.set((\"it\",t+1),n)\n",
        "\n",
        "        if t == 0:\n",
        "            self.set((\"stop\", 0), torch.Tensor([False]))\n",
        "        else:\n",
        "            if n == 1000:\n",
        "                self.set((\"stop\", t+1), torch.Tensor([True]))\n",
        "            else:\n",
        "                self.set((\"stop\", t+1), torch.Tensor([False]))\n",
        "\n",
        "\n",
        "\n",
        "\n",
        "workspace = Workspace()\n",
        "init_agent = TemporalAgent(Agents(InitAgent()))\n",
        "itcol_agent = TemporalAgent(Agents(ItColAgent(1000)))\n",
        "\n",
        "\n",
        "init_agent(workspace, t=0, n_steps=1)\n",
        "print(\"init:\", workspace[\"n\"], workspace[\"it\"])\n",
        "\n",
        "itcol_agent(workspace, t=0, stop_variable=\"stop\")\n",
        "\n",
        "print(\"number of steps:\", workspace.time_size())\n",
        "\n",
        "# Hint: this second agent should run the first agent in a worskpace in its forward function."
      ]
    },
    {
      "cell_type": "code",
      "source": [],
      "metadata": {
        "id": "iS91hgErr2ZZ"
      },
      "id": "iS91hgErr2ZZ",
      "execution_count": null,
      "outputs": []
    }
  ],
  "metadata": {
    "jupytext": {
      "cell_markers": "\"\"\""
    },
    "kernelspec": {
      "display_name": "Python 3 (ipykernel)",
      "language": "python",
      "name": "python3"
    },
    "language_info": {
      "codemirror_mode": {
        "name": "ipython",
        "version": 3
      },
      "file_extension": ".py",
      "mimetype": "text/x-python",
      "name": "python",
      "nbconvert_exporter": "python",
      "pygments_lexer": "ipython3",
      "version": "3.9.16"
    },
    "colab": {
      "provenance": []
    }
  },
  "nbformat": 4,
  "nbformat_minor": 5
}