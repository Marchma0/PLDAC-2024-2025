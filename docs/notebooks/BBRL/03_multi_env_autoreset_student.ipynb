{
  "cells": [
    {
      "cell_type": "markdown",
      "id": "eb124fa2",
      "metadata": {
        "id": "eb124fa2"
      },
      "source": [
        "# Outlook\n",
        "\n",
        "This notebook is designed to understand how to use a gymnasium environment as a BBRL agent in practice, using autoreset=True.\n",
        "It is part of the [BBRL documentation](https://github.com/osigaud/bbrl/docs/index.html).\n",
        "\n",
        "If this is your first contact with BBRL, you may start be having a look at [this more basic notebook](01-basic_concepts.student.ipynb) and [the one using autoreset=False](02-multi_env_noautoreset.student.ipynb)."
      ]
    },
    {
      "cell_type": "markdown",
      "id": "42863512",
      "metadata": {
        "id": "42863512"
      },
      "source": [
        "## Installation and Imports\n",
        "\n",
        "The BBRL library is [here](https://github.com/osigaud/bbrl).\n",
        "\n",
        "Below, we import standard python packages, pytorch packages and gymnasium environments."
      ]
    },
    {
      "cell_type": "code",
      "execution_count": 1,
      "id": "13631a8d",
      "metadata": {
        "tags": [
          "hide-input"
        ],
        "colab": {
          "base_uri": "https://localhost:8080/"
        },
        "id": "13631a8d",
        "outputId": "9523cde1-1ee8-4010-c11f-f1c673b65d9b"
      },
      "outputs": [
        {
          "output_type": "stream",
          "name": "stdout",
          "text": [
            "Collecting easypip\n",
            "  Downloading easypip-1.3.5-py3-none-any.whl.metadata (475 bytes)\n",
            "Requirement already satisfied: packaging in /usr/local/lib/python3.11/dist-packages (from easypip) (24.2)\n",
            "Downloading easypip-1.3.5-py3-none-any.whl (3.8 kB)\n",
            "Installing collected packages: easypip\n",
            "Successfully installed easypip-1.3.5\n"
          ]
        },
        {
          "output_type": "stream",
          "name": "stderr",
          "text": [
            "[easypip] Installing bbrl>=0.2.2\n",
            "[easypip] Installing swig\n",
            "[easypip] Installing bbrl_gymnasium>=0.2.0\n"
          ]
        }
      ],
      "source": [
        "# Installs the necessary Python and system libraries\n",
        "try:\n",
        "    from easypip import easyimport, easyinstall, is_notebook\n",
        "except ModuleNotFoundError as e:\n",
        "    get_ipython().run_line_magic(\"pip\", \"install easypip\")\n",
        "    from easypip import easyimport, easyinstall, is_notebook\n",
        "\n",
        "easyinstall(\"bbrl>=0.2.2\")\n",
        "easyinstall(\"swig\")\n",
        "easyinstall(\"bbrl_gymnasium>=0.2.0\")\n",
        "easyinstall(\"bbrl_gymnasium[classic_control]\")"
      ]
    },
    {
      "cell_type": "code",
      "execution_count": 2,
      "id": "9f817a1b",
      "metadata": {
        "tags": [
          "hide-input"
        ],
        "colab": {
          "base_uri": "https://localhost:8080/"
        },
        "id": "9f817a1b",
        "outputId": "d856f686-1fe2-4fbf-8a9c-94d63a7da703"
      },
      "outputs": [
        {
          "output_type": "stream",
          "name": "stderr",
          "text": [
            "WARNING:py.warnings:/usr/local/lib/python3.11/dist-packages/moviepy/video/io/sliders.py:61: SyntaxWarning: \"is\" with a literal. Did you mean \"==\"?\n",
            "  if event.key is 'enter':\n",
            "\n"
          ]
        }
      ],
      "source": [
        "import os\n",
        "import sys\n",
        "from pathlib import Path\n",
        "import math\n",
        "\n",
        "from moviepy.editor import ipython_display as video_display\n",
        "import time\n",
        "from tqdm.auto import tqdm\n",
        "from typing import Tuple, Optional\n",
        "from functools import partial\n",
        "\n",
        "from omegaconf import OmegaConf\n",
        "import torch\n",
        "import bbrl_gymnasium\n",
        "\n",
        "import copy\n",
        "from abc import abstractmethod, ABC\n",
        "import torch.nn as nn\n",
        "import torch.nn.functional as F\n",
        "from time import strftime\n",
        "OmegaConf.register_new_resolver(\n",
        "    \"current_time\", lambda: strftime(\"%Y%m%d-%H%M%S\"), replace=True\n",
        ")"
      ]
    },
    {
      "cell_type": "code",
      "execution_count": 3,
      "id": "f1fa6c96",
      "metadata": {
        "tags": [
          "hide-input"
        ],
        "id": "f1fa6c96"
      },
      "outputs": [],
      "source": [
        "# Imports all the necessary classes and functions from BBRL\n",
        "from bbrl.agents.agent import Agent\n",
        "from bbrl import get_arguments, get_class, instantiate_class\n",
        "# The workspace is the main class in BBRL, this is where all data is collected and stored\n",
        "from bbrl.workspace import Workspace\n",
        "\n",
        "# Agents(agent1, agent2, agent3, ...) executes the different agents the one after the other\n",
        "# TemporalAgent(agent) executes an agent over multiple timesteps in the workspace,\n",
        "# or until a given condition is reached\n",
        "\n",
        "from bbrl.agents import Agents, TemporalAgent\n",
        "from bbrl.agents.gymnasium import ParallelGymAgent, make_env\n",
        "\n",
        "# Replay buffers are useful to store past transitions when training\n",
        "from bbrl.utils.replay_buffer import ReplayBuffer"
      ]
    },
    {
      "cell_type": "markdown",
      "id": "fcfcacdb",
      "metadata": {
        "lines_to_next_cell": 2,
        "id": "fcfcacdb"
      },
      "source": [
        "## Definition of agents\n",
        "\n",
        "We reuse the RandomAgent already used in the autoreset=False case."
      ]
    },
    {
      "cell_type": "code",
      "execution_count": 4,
      "id": "fba3eaa4",
      "metadata": {
        "lines_to_next_cell": 1,
        "id": "fba3eaa4"
      },
      "outputs": [],
      "source": [
        "class RandomAgent(Agent):\n",
        "    def __init__(self, action_dim):\n",
        "        super().__init__()\n",
        "        self.action_dim = action_dim\n",
        "\n",
        "    def forward(self, t: int, choose_action=True, **kwargs):\n",
        "        \"\"\"An Agent can use self.workspace\"\"\"\n",
        "        obs = self.get((\"env/env_obs\", t))\n",
        "        action = torch.randint(0, self.action_dim, (len(obs), ))\n",
        "        self.set((\"action\", t), action)"
      ]
    },
    {
      "cell_type": "markdown",
      "id": "6fe7c965",
      "metadata": {
        "id": "6fe7c965"
      },
      "source": [
        "As before, we create an Agent representing [the CartPole-v1 gym environment](https://gymnasium.farama.org/environments/classic_control/cart_pole/).\n",
        "This is done using the [ParallelGymAgent](https://github.com/osigaud/bbrl/blob/40fe0468feb8998e62c3cd6bb3a575fef88e256f/src/bbrl/agents/gymnasium.py#L261) class."
      ]
    },
    {
      "cell_type": "markdown",
      "id": "befe26bf",
      "metadata": {
        "id": "befe26bf"
      },
      "source": [
        "### Single environment case\n",
        "\n",
        "We start with a single instance of the CartPole environment"
      ]
    },
    {
      "cell_type": "code",
      "execution_count": 5,
      "id": "1aa8b5dc",
      "metadata": {
        "colab": {
          "base_uri": "https://localhost:8080/"
        },
        "id": "1aa8b5dc",
        "outputId": "fe0e14b5-65d1-4f7f-c788-bce5a37253bd"
      },
      "outputs": [
        {
          "output_type": "stream",
          "name": "stdout",
          "text": [
            "Environment: observation space in R^4 and action space R^2\n"
          ]
        }
      ],
      "source": [
        "# We deal with 1 environment (random seed 2139)\n",
        "\n",
        "env_agent = ParallelGymAgent(partial(make_env, env_name='CartPole-v1', autoreset=True), num_envs=1).seed(2139)\n",
        "obs_size, action_dim = env_agent.get_obs_and_actions_sizes()\n",
        "print(f\"Environment: observation space in R^{obs_size} and action space R^{action_dim}\")\n",
        "\n",
        "# Each agent is run in the order given when constructing Agents\n",
        "\n",
        "agents = Agents(env_agent, RandomAgent(action_dim))\n",
        "t_agents = TemporalAgent(agents)"
      ]
    },
    {
      "cell_type": "markdown",
      "id": "3950591a",
      "metadata": {
        "id": "3950591a"
      },
      "source": [
        "Let us have a closer look at the content of the workspace"
      ]
    },
    {
      "cell_type": "code",
      "execution_count": 23,
      "id": "7aa121e7",
      "metadata": {
        "id": "7aa121e7"
      },
      "outputs": [],
      "source": [
        "# Creates a new workspace\n",
        "workspace = Workspace()\n",
        "epoch_size = 15\n",
        "t_agents(workspace, n_steps=epoch_size)"
      ]
    },
    {
      "cell_type": "code",
      "execution_count": 22,
      "id": "b6f3d415",
      "metadata": {
        "scrolled": false,
        "colab": {
          "base_uri": "https://localhost:8080/"
        },
        "id": "b6f3d415",
        "outputId": "6d4e10b2-6fc5-40ff-ec48-a8ec1f3f21aa"
      },
      "outputs": [
        {
          "output_type": "stream",
          "name": "stdout",
          "text": [
            "env/env_obs torch.Size([15, 3, 4]) tensor([[[ 0.0351, -0.0244,  0.0483,  0.0200],\n",
            "         [-0.0070,  0.0379, -0.0248,  0.0201],\n",
            "         [-0.0378,  0.0325,  0.0493, -0.0067]],\n",
            "\n",
            "        [[ 0.0346, -0.2202,  0.0487,  0.3275],\n",
            "         [-0.0062,  0.2334, -0.0244, -0.2803],\n",
            "         [-0.0372,  0.2269,  0.0492, -0.2834]],\n",
            "\n",
            "        [[ 0.0302, -0.0258,  0.0552,  0.0505],\n",
            "         [-0.0015,  0.4289, -0.0300, -0.5806],\n",
            "         [-0.0326,  0.0311,  0.0435,  0.0244]],\n",
            "\n",
            "        [[ 0.0297, -0.2216,  0.0562,  0.3601],\n",
            "         [ 0.0070,  0.6244, -0.0417, -0.8825],\n",
            "         [-0.0320, -0.1646,  0.0440,  0.3305]],\n",
            "\n",
            "        [[ 0.0253, -0.0274,  0.0634,  0.0857],\n",
            "         [ 0.0195,  0.4299, -0.0593, -0.6032],\n",
            "         [-0.0353, -0.3604,  0.0506,  0.6367]],\n",
            "\n",
            "        [[ 0.0247,  0.1668,  0.0651, -0.1863],\n",
            "         [ 0.0281,  0.6258, -0.0714, -0.9140],\n",
            "         [-0.0425, -0.1660,  0.0634,  0.3604]],\n",
            "\n",
            "        [[ 0.0280,  0.3609,  0.0614, -0.4578],\n",
            "         [ 0.0406,  0.8218, -0.0896, -1.2282],\n",
            "         [-0.0458, -0.3619,  0.0706,  0.6724]],\n",
            "\n",
            "        [[ 0.0353,  0.1650,  0.0523, -0.1464],\n",
            "         [ 0.0571,  0.6279, -0.1142, -0.9649],\n",
            "         [-0.0531, -0.5580,  0.0840,  0.9864]],\n",
            "\n",
            "        [[ 0.0386,  0.3593,  0.0493, -0.4221],\n",
            "         [ 0.0696,  0.8244, -0.1335, -1.2912],\n",
            "         [-0.0642, -0.7541,  0.1037,  1.3043]],\n",
            "\n",
            "        [[ 0.0458,  0.1635,  0.0409, -0.1143],\n",
            "         [ 0.0861,  0.6312, -0.1593, -1.0431],\n",
            "         [-0.0793, -0.5604,  0.1298,  1.0458]],\n",
            "\n",
            "        [[ 0.0490, -0.0321,  0.0386,  0.1910],\n",
            "         [ 0.0987,  0.4385, -0.1802, -0.8044],\n",
            "         [-0.0905, -0.3673,  0.1507,  0.7965]],\n",
            "\n",
            "        [[ 0.0484, -0.2278,  0.0424,  0.4956],\n",
            "         [ 0.1075,  0.6356, -0.1963, -1.1479],\n",
            "         [-0.0979, -0.1745,  0.1667,  0.5548]],\n",
            "\n",
            "        [[ 0.0438, -0.0333,  0.0523,  0.2166],\n",
            "         [ 0.1202,  0.4435, -0.2192, -0.9226],\n",
            "         [-0.1013,  0.0179,  0.1778,  0.3189]],\n",
            "\n",
            "        [[ 0.0432,  0.1610,  0.0567, -0.0592],\n",
            "         [-0.0495,  0.0463, -0.0281, -0.0105],\n",
            "         [-0.1010,  0.2101,  0.1842,  0.0871]],\n",
            "\n",
            "        [[ 0.0464,  0.3553,  0.0555, -0.3334],\n",
            "         [-0.0486, -0.1484, -0.0283,  0.2732],\n",
            "         [-0.0968,  0.0129,  0.1859,  0.4318]]])\n",
            "env/terminated torch.Size([15, 3]) tensor([[False, False, False],\n",
            "        [False, False, False],\n",
            "        [False, False, False],\n",
            "        [False, False, False],\n",
            "        [False, False, False],\n",
            "        [False, False, False],\n",
            "        [False, False, False],\n",
            "        [False, False, False],\n",
            "        [False, False, False],\n",
            "        [False, False, False],\n",
            "        [False, False, False],\n",
            "        [False, False, False],\n",
            "        [False,  True, False],\n",
            "        [False, False, False],\n",
            "        [False, False, False]])\n",
            "env/truncated torch.Size([15, 3]) tensor([[False, False, False],\n",
            "        [False, False, False],\n",
            "        [False, False, False],\n",
            "        [False, False, False],\n",
            "        [False, False, False],\n",
            "        [False, False, False],\n",
            "        [False, False, False],\n",
            "        [False, False, False],\n",
            "        [False, False, False],\n",
            "        [False, False, False],\n",
            "        [False, False, False],\n",
            "        [False, False, False],\n",
            "        [False, False, False],\n",
            "        [False, False, False],\n",
            "        [False, False, False]])\n",
            "env/done torch.Size([15, 3]) tensor([[False, False, False],\n",
            "        [False, False, False],\n",
            "        [False, False, False],\n",
            "        [False, False, False],\n",
            "        [False, False, False],\n",
            "        [False, False, False],\n",
            "        [False, False, False],\n",
            "        [False, False, False],\n",
            "        [False, False, False],\n",
            "        [False, False, False],\n",
            "        [False, False, False],\n",
            "        [False, False, False],\n",
            "        [False,  True, False],\n",
            "        [False, False, False],\n",
            "        [False, False, False]])\n",
            "env/reward torch.Size([15, 3]) tensor([[0., 0., 0.],\n",
            "        [1., 1., 1.],\n",
            "        [1., 1., 1.],\n",
            "        [1., 1., 1.],\n",
            "        [1., 1., 1.],\n",
            "        [1., 1., 1.],\n",
            "        [1., 1., 1.],\n",
            "        [1., 1., 1.],\n",
            "        [1., 1., 1.],\n",
            "        [1., 1., 1.],\n",
            "        [1., 1., 1.],\n",
            "        [1., 1., 1.],\n",
            "        [1., 1., 1.],\n",
            "        [1., 0., 1.],\n",
            "        [1., 1., 1.]])\n",
            "env/cumulated_reward torch.Size([15, 3]) tensor([[ 0.,  0.,  0.],\n",
            "        [ 1.,  1.,  1.],\n",
            "        [ 2.,  2.,  2.],\n",
            "        [ 3.,  3.,  3.],\n",
            "        [ 4.,  4.,  4.],\n",
            "        [ 5.,  5.,  5.],\n",
            "        [ 6.,  6.,  6.],\n",
            "        [ 7.,  7.,  7.],\n",
            "        [ 8.,  8.,  8.],\n",
            "        [ 9.,  9.,  9.],\n",
            "        [10., 10., 10.],\n",
            "        [11., 11., 11.],\n",
            "        [12., 12., 12.],\n",
            "        [13.,  0., 13.],\n",
            "        [14.,  1., 14.]])\n",
            "env/timestep torch.Size([15, 3]) tensor([[ 0,  0,  0],\n",
            "        [ 1,  1,  1],\n",
            "        [ 2,  2,  2],\n",
            "        [ 3,  3,  3],\n",
            "        [ 4,  4,  4],\n",
            "        [ 5,  5,  5],\n",
            "        [ 6,  6,  6],\n",
            "        [ 7,  7,  7],\n",
            "        [ 8,  8,  8],\n",
            "        [ 9,  9,  9],\n",
            "        [10, 10, 10],\n",
            "        [11, 11, 11],\n",
            "        [12, 12, 12],\n",
            "        [13,  0, 13],\n",
            "        [14,  1, 14]])\n",
            "action torch.Size([15, 3]) tensor([[0, 1, 1],\n",
            "        [1, 1, 0],\n",
            "        [0, 1, 0],\n",
            "        [1, 0, 0],\n",
            "        [1, 1, 1],\n",
            "        [1, 1, 0],\n",
            "        [0, 0, 0],\n",
            "        [1, 1, 0],\n",
            "        [0, 0, 1],\n",
            "        [0, 0, 1],\n",
            "        [0, 1, 1],\n",
            "        [1, 0, 1],\n",
            "        [1, 1, 1],\n",
            "        [1, 0, 0],\n",
            "        [0, 1, 0]])\n"
          ]
        }
      ],
      "source": [
        "for key in workspace.variables.keys():\n",
        "    print(key, workspace[key].shape, workspace[key])"
      ]
    },
    {
      "cell_type": "code",
      "execution_count": 8,
      "id": "ba99c959",
      "metadata": {
        "colab": {
          "base_uri": "https://localhost:8080/",
          "height": 388
        },
        "id": "ba99c959",
        "outputId": "75ef7b8e-05d2-4bd8-96ea-324492c07329"
      },
      "outputs": [
        {
          "output_type": "display_data",
          "data": {
            "text/plain": [
              "'Observations (first 4)'"
            ],
            "application/vnd.google.colaboratory.intrinsic+json": {
              "type": "string"
            }
          },
          "metadata": {}
        },
        {
          "output_type": "display_data",
          "data": {
            "text/plain": [
              "tensor([[[-0.0471,  0.0265,  0.0220, -0.0336]],\n",
              "\n",
              "        [[-0.0466,  0.2213,  0.0214, -0.3192]],\n",
              "\n",
              "        [[-0.0422,  0.0259,  0.0150, -0.0199]],\n",
              "\n",
              "        [[-0.0416,  0.2208,  0.0146, -0.3078]]])"
            ]
          },
          "metadata": {}
        },
        {
          "output_type": "display_data",
          "data": {
            "text/plain": [
              "'Transitions (first 3)'"
            ],
            "application/vnd.google.colaboratory.intrinsic+json": {
              "type": "string"
            }
          },
          "metadata": {}
        },
        {
          "output_type": "display_data",
          "data": {
            "text/plain": [
              "'(s_0, s_1)'"
            ],
            "application/vnd.google.colaboratory.intrinsic+json": {
              "type": "string"
            }
          },
          "metadata": {}
        },
        {
          "output_type": "display_data",
          "data": {
            "text/plain": [
              "tensor([[-0.0471,  0.0265,  0.0220, -0.0336],\n",
              "        [-0.0466,  0.2213,  0.0214, -0.3192]])"
            ]
          },
          "metadata": {}
        },
        {
          "output_type": "display_data",
          "data": {
            "text/plain": [
              "'(s_1, s_2)'"
            ],
            "application/vnd.google.colaboratory.intrinsic+json": {
              "type": "string"
            }
          },
          "metadata": {}
        },
        {
          "output_type": "display_data",
          "data": {
            "text/plain": [
              "tensor([[-0.0466,  0.2213,  0.0214, -0.3192],\n",
              "        [-0.0422,  0.0259,  0.0150, -0.0199]])"
            ]
          },
          "metadata": {}
        },
        {
          "output_type": "display_data",
          "data": {
            "text/plain": [
              "'(s_2, s_3)'"
            ],
            "application/vnd.google.colaboratory.intrinsic+json": {
              "type": "string"
            }
          },
          "metadata": {}
        },
        {
          "output_type": "display_data",
          "data": {
            "text/plain": [
              "tensor([[-0.0422,  0.0259,  0.0150, -0.0199],\n",
              "        [-0.0416,  0.2208,  0.0146, -0.3078]])"
            ]
          },
          "metadata": {}
        },
        {
          "output_type": "display_data",
          "data": {
            "text/plain": [
              "'(s_3, s_4)'"
            ],
            "application/vnd.google.colaboratory.intrinsic+json": {
              "type": "string"
            }
          },
          "metadata": {}
        },
        {
          "output_type": "display_data",
          "data": {
            "text/plain": [
              "tensor([[-0.0416,  0.2208,  0.0146, -0.3078],\n",
              "        [-0.0372,  0.4157,  0.0084, -0.5958]])"
            ]
          },
          "metadata": {}
        }
      ],
      "source": [
        "\n",
        "# We get the transitions: each tensor is transformed so that:\n",
        "# - we have the value at time step t and t+1 (so all the tensors first dimension have a size of 2)\n",
        "# - there is no distinction between the different environments (here, there is just one environment to make it easy)\n",
        "transitions = workspace.get_transitions()\n",
        "\n",
        "display(\"Observations (first 4)\", workspace[\"env/env_obs\"][:4])\n",
        "\n",
        "display(\"Transitions (first 3)\")\n",
        "for t in range(4):\n",
        "    display(f'(s_{t}, s_{t+1})')\n",
        "    # We ignore the first dimension as it corresponds to [t, t+1]\n",
        "    display(transitions[\"env/env_obs\"][:, t])"
      ]
    },
    {
      "cell_type": "markdown",
      "id": "a3bbc7c8",
      "metadata": {
        "id": "a3bbc7c8"
      },
      "source": [
        "You can see that each transition in the workspace corresponds to a pair of observations.\n",
        "\n",
        "### Transitions as a workspace\n",
        "\n",
        "A transition workspace is still a workspace... this is quite\n",
        " handy since each transition can be seen as a mini-episode of two time steps;\n",
        " we can use our agents on it.\n",
        "\n",
        "It is often the case in BBRL that we have to apply an agent to an already existing workspace\n",
        "as shown below."
      ]
    },
    {
      "cell_type": "code",
      "execution_count": 11,
      "id": "2b3aab11",
      "metadata": {
        "colab": {
          "base_uri": "https://localhost:8080/"
        },
        "id": "2b3aab11",
        "outputId": "e23bee56-ed7e-4a6e-894f-e2648768b8b5"
      },
      "outputs": [
        {
          "output_type": "stream",
          "name": "stdout",
          "text": [
            "env/env_obs tensor([[[-0.0471,  0.0265,  0.0220, -0.0336],\n",
            "         [-0.0466,  0.2213,  0.0214, -0.3192],\n",
            "         [-0.0422,  0.0259,  0.0150, -0.0199],\n",
            "         [-0.0416,  0.2208,  0.0146, -0.3078],\n",
            "         [-0.0372,  0.4157,  0.0084, -0.5958],\n",
            "         [-0.0289,  0.2205, -0.0035, -0.3005],\n",
            "         [-0.0245,  0.0254, -0.0095, -0.0089],\n",
            "         [-0.0240,  0.2207, -0.0097, -0.3046],\n",
            "         [-0.0196,  0.0257, -0.0158, -0.0149],\n",
            "         [-0.0191, -0.1692, -0.0161,  0.2727],\n",
            "         [-0.0224, -0.3641, -0.0106,  0.5603],\n",
            "         [-0.0297, -0.1688,  0.0006,  0.2643],\n",
            "         [-0.0331,  0.0263,  0.0059, -0.0282],\n",
            "         [-0.0326,  0.2213,  0.0053, -0.3190]],\n",
            "\n",
            "        [[-0.0466,  0.2213,  0.0214, -0.3192],\n",
            "         [-0.0422,  0.0259,  0.0150, -0.0199],\n",
            "         [-0.0416,  0.2208,  0.0146, -0.3078],\n",
            "         [-0.0372,  0.4157,  0.0084, -0.5958],\n",
            "         [-0.0289,  0.2205, -0.0035, -0.3005],\n",
            "         [-0.0245,  0.0254, -0.0095, -0.0089],\n",
            "         [-0.0240,  0.2207, -0.0097, -0.3046],\n",
            "         [-0.0196,  0.0257, -0.0158, -0.0149],\n",
            "         [-0.0191, -0.1692, -0.0161,  0.2727],\n",
            "         [-0.0224, -0.3641, -0.0106,  0.5603],\n",
            "         [-0.0297, -0.1688,  0.0006,  0.2643],\n",
            "         [-0.0331,  0.0263,  0.0059, -0.0282],\n",
            "         [-0.0326,  0.2213,  0.0053, -0.3190],\n",
            "         [-0.0282,  0.0261, -0.0010, -0.0246]]])\n",
            "env/terminated tensor([[False, False, False, False, False, False, False, False, False, False,\n",
            "         False, False, False, False],\n",
            "        [False, False, False, False, False, False, False, False, False, False,\n",
            "         False, False, False, False]])\n",
            "env/truncated tensor([[False, False, False, False, False, False, False, False, False, False,\n",
            "         False, False, False, False],\n",
            "        [False, False, False, False, False, False, False, False, False, False,\n",
            "         False, False, False, False]])\n",
            "env/done tensor([[False, False, False, False, False, False, False, False, False, False,\n",
            "         False, False, False, False],\n",
            "        [False, False, False, False, False, False, False, False, False, False,\n",
            "         False, False, False, False]])\n",
            "env/reward tensor([[0., 1., 1., 1., 1., 1., 1., 1., 1., 1., 1., 1., 1., 1.],\n",
            "        [1., 1., 1., 1., 1., 1., 1., 1., 1., 1., 1., 1., 1., 1.]])\n",
            "env/cumulated_reward tensor([[ 0.,  1.,  2.,  3.,  4.,  5.,  6.,  7.,  8.,  9., 10., 11., 12., 13.],\n",
            "        [ 1.,  2.,  3.,  4.,  5.,  6.,  7.,  8.,  9., 10., 11., 12., 13., 14.]])\n",
            "env/timestep tensor([[ 0,  1,  2,  3,  4,  5,  6,  7,  8,  9, 10, 11, 12, 13],\n",
            "        [ 1,  2,  3,  4,  5,  6,  7,  8,  9, 10, 11, 12, 13, 14]])\n",
            "action tensor([[1, 1, 0, 1, 1, 0, 0, 1, 0, 1, 1, 0, 0, 1],\n",
            "        [1, 1, 1, 1, 1, 0, 0, 0, 1, 1, 0, 1, 1, 1]])\n",
            "new action, tensor([[1, 1, 1, 0, 1, 0, 0, 1, 1, 1, 0, 0, 0, 0],\n",
            "        [0, 1, 1, 1, 1, 1, 0, 1, 0, 1, 0, 0, 1, 0]])\n"
          ]
        }
      ],
      "source": [
        "for key in transitions.variables.keys():\n",
        "    print(key, transitions[key])\n",
        "\n",
        "t_random_agent = TemporalAgent(RandomAgent(action_dim))\n",
        "t_random_agent(transitions, t=0, n_steps=2)\n",
        "\n",
        "# Here, the action tensor will have been overwritten by the new actions\n",
        "print(f\"new action, {transitions['action']}\")"
      ]
    },
    {
      "cell_type": "markdown",
      "id": "6990c993",
      "metadata": {
        "id": "6990c993"
      },
      "source": [
        "### Multiple environment case\n",
        "\n",
        "Now we are using 3 environments.\n",
        "Given the organization of transitions, to find the transitions of a particular environment\n",
        "we have to watch in the transition every 3 lines, since transitions are stored one environment after the other."
      ]
    },
    {
      "cell_type": "code",
      "execution_count": 12,
      "id": "5aee3e15",
      "metadata": {
        "colab": {
          "base_uri": "https://localhost:8080/",
          "height": 491
        },
        "id": "5aee3e15",
        "outputId": "597f1fbd-024a-4ae9-ee7c-1e0009102f30"
      },
      "outputs": [
        {
          "output_type": "stream",
          "name": "stdout",
          "text": [
            "Environment: observation space in R^4 and action space R^2\n"
          ]
        },
        {
          "output_type": "display_data",
          "data": {
            "text/plain": [
              "'Observations (first 4)'"
            ],
            "application/vnd.google.colaboratory.intrinsic+json": {
              "type": "string"
            }
          },
          "metadata": {}
        },
        {
          "output_type": "display_data",
          "data": {
            "text/plain": [
              "tensor([[[-0.0085, -0.0427, -0.0489,  0.0215],\n",
              "         [ 0.0005,  0.0025, -0.0493, -0.0402],\n",
              "         [ 0.0080,  0.0203, -0.0023, -0.0085]],\n",
              "\n",
              "        [[-0.0094,  0.1531, -0.0485, -0.2862],\n",
              "         [ 0.0006,  0.1983, -0.0501, -0.3480],\n",
              "         [ 0.0084,  0.2155, -0.0025, -0.3019]],\n",
              "\n",
              "        [[-0.0063, -0.0413, -0.0542, -0.0092],\n",
              "         [ 0.0046,  0.0039, -0.0570, -0.0715],\n",
              "         [ 0.0127,  0.0204, -0.0085, -0.0100]],\n",
              "\n",
              "        [[-0.0071, -0.2356, -0.0544,  0.2659],\n",
              "         [ 0.0046, -0.1904, -0.0584,  0.2027],\n",
              "         [ 0.0132, -0.1746, -0.0087,  0.2800]]])"
            ]
          },
          "metadata": {}
        },
        {
          "output_type": "display_data",
          "data": {
            "text/plain": [
              "'Transitions (first 3)'"
            ],
            "application/vnd.google.colaboratory.intrinsic+json": {
              "type": "string"
            }
          },
          "metadata": {}
        },
        {
          "output_type": "display_data",
          "data": {
            "text/plain": [
              "'(s_0, s_1)'"
            ],
            "application/vnd.google.colaboratory.intrinsic+json": {
              "type": "string"
            }
          },
          "metadata": {}
        },
        {
          "output_type": "display_data",
          "data": {
            "text/plain": [
              "tensor([[-0.0085, -0.0427, -0.0489,  0.0215],\n",
              "        [-0.0094,  0.1531, -0.0485, -0.2862]])"
            ]
          },
          "metadata": {}
        },
        {
          "output_type": "display_data",
          "data": {
            "text/plain": [
              "'(s_1, s_2)'"
            ],
            "application/vnd.google.colaboratory.intrinsic+json": {
              "type": "string"
            }
          },
          "metadata": {}
        },
        {
          "output_type": "display_data",
          "data": {
            "text/plain": [
              "tensor([[ 0.0005,  0.0025, -0.0493, -0.0402],\n",
              "        [ 0.0006,  0.1983, -0.0501, -0.3480]])"
            ]
          },
          "metadata": {}
        },
        {
          "output_type": "display_data",
          "data": {
            "text/plain": [
              "'(s_2, s_3)'"
            ],
            "application/vnd.google.colaboratory.intrinsic+json": {
              "type": "string"
            }
          },
          "metadata": {}
        },
        {
          "output_type": "display_data",
          "data": {
            "text/plain": [
              "tensor([[ 0.0080,  0.0203, -0.0023, -0.0085],\n",
              "        [ 0.0084,  0.2155, -0.0025, -0.3019]])"
            ]
          },
          "metadata": {}
        }
      ],
      "source": [
        "# We deal with 3 environments at a time (random seed 2139)\n",
        "\n",
        "multienv_agent = ParallelGymAgent(partial(make_env, env_name='CartPole-v1', autoreset=True), num_envs=3).seed(2139)\n",
        "obs_size, action_dim = multienv_agent.get_obs_and_actions_sizes()\n",
        "print(f\"Environment: observation space in R^{obs_size} and action space R^{action_dim}\")\n",
        "\n",
        "agents = Agents(multienv_agent, RandomAgent(action_dim))\n",
        "t_agents = TemporalAgent(agents)\n",
        "workspace = Workspace()\n",
        "t_agents(workspace, n_steps=epoch_size)\n",
        "transitions = workspace.get_transitions()\n",
        "\n",
        "display(\"Observations (first 4)\", workspace[\"env/env_obs\"][:4])\n",
        "\n",
        "display(\"Transitions (first 3)\")\n",
        "for t in range(3):\n",
        "    display(f'(s_{t}, s_{t+1})')\n",
        "    display(transitions[\"env/env_obs\"][:, t])"
      ]
    },
    {
      "cell_type": "markdown",
      "id": "c4476782",
      "metadata": {
        "id": "c4476782"
      },
      "source": [
        "You can see how the transitions are organized in the workspace relative to the 3 environments.\n",
        "You first get the first transition from the first environment.\n",
        "Then the first transition from the second environment.\n",
        "Then the first transition from the third environment.\n",
        "Then the second transition from the first environment, etc.\n",
        "\n",
        "## The replay buffer\n",
        "\n",
        "Differently from the previous case, we use a replace buffer that stores\n",
        "a set of transitions $(s_t, a_t, r_t, s_{t+1})$\n",
        "Finally, the replay buffer keeps slices [:, i, ...] of the transition\n",
        "workspace (here at most 80 transitions)"
      ]
    },
    {
      "cell_type": "code",
      "execution_count": 18,
      "id": "bc58e15d",
      "metadata": {
        "colab": {
          "base_uri": "https://localhost:8080/"
        },
        "id": "bc58e15d",
        "outputId": "d1e210ef-77e4-481b-b2ec-35734f0d0c16"
      },
      "outputs": [
        {
          "output_type": "execute_result",
          "data": {
            "text/plain": [
              "tensor([[[ 0.0755,  0.8044, -0.1017, -1.2627],\n",
              "         [-0.0992, -0.2348,  0.0644,  0.2480],\n",
              "         [ 0.0473,  0.8026, -0.0585, -1.2190]],\n",
              "\n",
              "        [[ 0.0916,  0.6107, -0.1270, -1.0036],\n",
              "         [-0.1039, -0.0407,  0.0693, -0.0237],\n",
              "         [ 0.0634,  0.6083, -0.0828, -0.9452]]])"
            ]
          },
          "metadata": {},
          "execution_count": 18
        }
      ],
      "source": [
        "rb = ReplayBuffer(max_size=80)\n",
        "\n",
        "# We add the transitions to the buffer....\n",
        "rb.put(transitions)\n",
        "\n",
        "# And sample from them here we get 3 tuples (s_t, s_{t+1})\n",
        "rb.get_shuffled(3)[\"env/env_obs\"]"
      ]
    },
    {
      "cell_type": "markdown",
      "id": "032c10f6",
      "metadata": {
        "id": "032c10f6"
      },
      "source": [
        "## Collecting several epochs into the same workspace\n",
        "\n",
        "In the code below, the workspace only contains one epoch at a time.\n",
        "The content of these different epochs are concatenated into the replay buffer"
      ]
    },
    {
      "cell_type": "code",
      "execution_count": 19,
      "id": "1c1ba319",
      "metadata": {
        "colab": {
          "base_uri": "https://localhost:8080/"
        },
        "id": "1c1ba319",
        "outputId": "4daf2651-d8b7-4016-d7a8-626aa1d7ea4b"
      },
      "outputs": [
        {
          "output_type": "stream",
          "name": "stdout",
          "text": [
            "collecting new epoch, already performed 41 steps\n",
            "replay buffer size: 80\n",
            "collecting new epoch, already performed 82 steps\n",
            "replay buffer size: 80\n",
            "collecting new epoch, already performed 122 steps\n",
            "replay buffer size: 80\n"
          ]
        }
      ],
      "source": [
        "nb_steps = 0\n",
        "max_steps = 100\n",
        "epoch_size = 10\n",
        "\n",
        "while nb_steps < max_steps:\n",
        "    # Execute the agent in the workspace\n",
        "    if nb_steps == 0:\n",
        "        # In the first epoch, we start with t=0\n",
        "        t_agents(workspace, t=0, n_steps=epoch_size)\n",
        "    else:\n",
        "        # Clear all gradient graphs from the workspace\n",
        "        workspace.zero_grad()\n",
        "        # Here we duplicate the last column of the previous epoch into the first column of the next epoch\n",
        "        workspace.copy_n_last_steps(1)\n",
        "\n",
        "        # In subsequent epochs, we start with t=1 so as to avoid overwriting the first column we just duplicated\n",
        "        t_agents(workspace, t=1, n_steps=epoch_size)\n",
        "\n",
        "    transition_workspace = workspace.get_transitions()\n",
        "\n",
        "    # The part below counts the number of steps: it ignores action performed during transition from one episode to the next,\n",
        "    # as they have been discarded by the get_transitions() function\n",
        "\n",
        "    action = transition_workspace[\"action\"]\n",
        "    nb_steps += action[0].shape[0]\n",
        "    print(f\"collecting new epoch, already performed {nb_steps} steps\")\n",
        "\n",
        "    if nb_steps > 0 or epoch_size  > 1:\n",
        "        rb.put(transition_workspace)\n",
        "    print(f\"replay buffer size: {rb.size()}\")"
      ]
    },
    {
      "cell_type": "markdown",
      "id": "bbb84141",
      "metadata": {
        "id": "bbb84141"
      },
      "source": [
        "## Exercise\n",
        "\n",
        "Create a stupid agent that always outputs action 1, run it for 10 epochs of 100 steps over 2 instances of the CartPole-v1 environment.\n",
        "Put the data into a replay buffer of size 5000.\n",
        "\n",
        "Then do the following:\n",
        "- Count the number of episodes the agent performed in each environment by counting the number of \"done=True\" elements in the workspace before applying the `get_transitions()` function\n",
        "- Count the total number of episodes performed by the agent by measuring the difference between the size of the replay buffer and the number of steps performed by the agent.\n",
        "- Make sure both counts are consistent\n",
        "\n",
        "Can we count the number of episodes performed in one environment using the second method? Why?"
      ]
    },
    {
      "cell_type": "code",
      "source": [
        "class OneAgent(Agent):\n",
        "    def __init__(self, action_dim):\n",
        "        super().__init__()\n",
        "        self.action_dim = action_dim\n",
        "\n",
        "    def forward(self, t: int, choose_action=True, **kwargs):\n",
        "        \"\"\"An Agent can use self.workspace\"\"\"\n",
        "        obs = self.get((\"env/env_obs\", t))\n",
        "        action = torch.tensor([1]*len(obs))\n",
        "        self.set((\"action\", t), action)"
      ],
      "metadata": {
        "id": "6aDbOYw7DZVk"
      },
      "id": "6aDbOYw7DZVk",
      "execution_count": 20,
      "outputs": []
    },
    {
      "cell_type": "code",
      "source": [
        "env_agent = ParallelGymAgent(partial(make_env, env_name='CartPole-v1', autoreset=True), num_envs=1).seed(2139)\n",
        "obs_size, action_dim = env_agent.get_obs_and_actions_sizes()\n",
        "print(f\"Environment: observation space in R^{obs_size} and action space R^{action_dim}\")\n",
        "\n",
        "\n",
        "\n",
        "agents = Agents(env_agent, RandomAgent(action_dim))\n",
        "t_agents = TemporalAgent(agents)\n",
        "workspace = Workspace()\n",
        "\n",
        "epoch_size = 100\n",
        "n_epochs = 10\n",
        "nb_steps = 0\n",
        "max_steps = 1000\n",
        "\n",
        "rb = ReplayBuffer(max_size=5000)\n",
        "\n",
        "\n",
        "for i in range(n_epochs):\n",
        "    while nb_steps < max_steps:\n",
        "      if nb_steps == 0:\n",
        "          t_agents(workspace, t=0, n_steps=epoch_size)\n",
        "      else:\n",
        "          workspace.zero_grad()\n",
        "          workspace.copy_n_last_steps(1)\n",
        "          t_agents(workspace, t=1, n_steps=epoch_size)\n",
        "\n",
        "      transition_workspace = workspace.get_transitions()\n",
        "\n",
        "      action = transition_workspace[\"action\"]\n",
        "      nb_steps += action[0].shape[0]\n",
        "      print(f\"collecting new epoch, already performed {nb_steps} steps\")\n",
        "\n",
        "      if nb_steps > 0 or epoch_size  > 1:\n",
        "          rb.put(transition_workspace)\n",
        "      print(f\"replay buffer size: {rb.size()}\")"
      ],
      "metadata": {
        "colab": {
          "base_uri": "https://localhost:8080/"
        },
        "id": "AKu0YOSVDj-z",
        "outputId": "f96ab46b-8dd0-4de4-d19e-5382643eb7d8"
      },
      "id": "AKu0YOSVDj-z",
      "execution_count": 30,
      "outputs": [
        {
          "output_type": "stream",
          "name": "stdout",
          "text": [
            "Environment: observation space in R^4 and action space R^2\n",
            "collecting new epoch, already performed 94 steps\n",
            "replay buffer size: 94\n",
            "collecting new epoch, already performed 191 steps\n",
            "replay buffer size: 191\n",
            "collecting new epoch, already performed 286 steps\n",
            "replay buffer size: 286\n",
            "collecting new epoch, already performed 384 steps\n",
            "replay buffer size: 384\n",
            "collecting new epoch, already performed 480 steps\n",
            "replay buffer size: 480\n",
            "collecting new epoch, already performed 576 steps\n",
            "replay buffer size: 576\n",
            "collecting new epoch, already performed 671 steps\n",
            "replay buffer size: 671\n",
            "collecting new epoch, already performed 766 steps\n",
            "replay buffer size: 766\n",
            "collecting new epoch, already performed 860 steps\n",
            "replay buffer size: 860\n",
            "collecting new epoch, already performed 957 steps\n",
            "replay buffer size: 957\n",
            "collecting new epoch, already performed 1054 steps\n",
            "replay buffer size: 1054\n"
          ]
        }
      ]
    },
    {
      "cell_type": "code",
      "source": [],
      "metadata": {
        "id": "BV3YhktAES2B"
      },
      "id": "BV3YhktAES2B",
      "execution_count": null,
      "outputs": []
    }
  ],
  "metadata": {
    "jupytext": {
      "cell_markers": "\"\"\""
    },
    "kernelspec": {
      "display_name": "Python 3 (ipykernel)",
      "language": "python",
      "name": "python3"
    },
    "language_info": {
      "codemirror_mode": {
        "name": "ipython",
        "version": 3
      },
      "file_extension": ".py",
      "mimetype": "text/x-python",
      "name": "python",
      "nbconvert_exporter": "python",
      "pygments_lexer": "ipython3",
      "version": "3.9.16"
    },
    "colab": {
      "provenance": []
    }
  },
  "nbformat": 4,
  "nbformat_minor": 5
}